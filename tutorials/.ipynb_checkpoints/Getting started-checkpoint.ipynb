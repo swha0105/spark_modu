{
 "cells": [
  {
   "cell_type": "markdown",
   "id": "finnish-republican",
   "metadata": {},
   "source": [
    "# Referrence\n",
    "https://medium.com/spark-nlp/introduction-to-spark-nlp-installation-and-getting-started-part-ii-d009f7a177f3"
   ]
  },
  {
   "cell_type": "code",
   "execution_count": 1,
   "id": "fitting-barbados",
   "metadata": {},
   "outputs": [],
   "source": [
    "import sparknlp\n",
    "\n",
    "# Start Spark Session with Spark NLP\n",
    "# start() functions has two parameters: gpu and spark23\n",
    "# sparknlp.start(gpu=True) will start the session with GPU support\n",
    "# sparknlp.start(spark23=True) is when you have Apache Spark 2.3.x installed\n",
    "spark = sparknlp.start(gpu=True)"
   ]
  },
  {
   "cell_type": "code",
   "execution_count": 2,
   "id": "present-mission",
   "metadata": {},
   "outputs": [],
   "source": [
    "# from pyspark.sql import SparkSession\n",
    "# spark = (SparkSession.builder\n",
    "#          .master(‘local[*]’)\n",
    "#          .appName(‘Spark NLP’)\n",
    "#          .config(“spark.driver.memory”, “6g”)\n",
    "#          .config(“spark.executor.memory”, “6g”) # added\n",
    "#          .config(“spark.jars.packages”, “JohnSnowLabs:spark-nlp:2.2.2”)\n",
    "#          .config(“spark.kryoserializer.buffer.max”, “600M”) # added\n",
    "#          .getOrCreate())"
   ]
  },
  {
   "cell_type": "code",
   "execution_count": 3,
   "id": "universal-handle",
   "metadata": {},
   "outputs": [
    {
     "name": "stdout",
     "output_type": "stream",
     "text": [
      "2.7.4\n",
      "2.4.7\n",
      "recognize_entities_dl download started this may take some time.\n",
      "Approx size to download 159 MB\n",
      "[OK!]\n"
     ]
    }
   ],
   "source": [
    "import sparknlp\n",
    "from sparknlp.pretrained import PretrainedPipeline\n",
    "#create or get Spark Session\n",
    "\n",
    "print(sparknlp.version())\n",
    "print(spark.version)\n",
    "\n",
    "pipeline = PretrainedPipeline(\"recognize_entities_dl\", \"en\")\n",
    "result = pipeline.annotate(\"Harry Potter is a great movie\")"
   ]
  },
  {
   "cell_type": "code",
   "execution_count": 11,
   "id": "timely-jason",
   "metadata": {},
   "outputs": [
    {
     "name": "stdout",
     "output_type": "stream",
     "text": [
      "explain_document_dl download started this may take some time.\n",
      "Approx size to download 168.4 MB\n",
      "[OK!]\n",
      "entities: ['Mona Lisa', 'Leonardo', 'Louvre', 'Paris']\n",
      "stem: ['the', 'mona', 'lisa', 'i', 'a', '6th', 'centuri', 'oil', 'paint', 'creat', 'by', 'leonardo', '.', 'iti', 'held', 'at', 'the', 'louvr', 'in', 'pari', '.']\n",
      "checked: ['The', 'Mona', 'Lisa', 'is', 'a', '6th', 'century', 'oil', 'painting', 'created', 'by', 'Leonardo', '.', 'Itys', 'held', 'at', 'the', 'Louvre', 'in', 'Paris', '.']\n",
      "lemma: ['The', 'Mona', 'Lisa', 'be', 'a', '6th', 'century', 'oil', 'painting', 'create', 'by', 'Leonardo', '.', 'Itys', 'hold', 'at', 'the', 'Louvre', 'in', 'Paris', '.']\n",
      "document: ['\\nThe Mona Lisa is a 16th century oil painting created by Leonardo. \\nIt’s held at the Louvre in Paris.\\n']\n",
      "pos: ['DT', 'NNP', 'NNP', 'VBZ', 'DT', 'JJ', 'NN', 'NN', 'NN', 'VBN', 'IN', 'NNP', '.', 'NNP', 'VBD', 'IN', 'DT', 'NNP', 'IN', 'NNP', '.']\n",
      "token: ['The', 'Mona', 'Lisa', 'is', 'a', '16th', 'century', 'oil', 'painting', 'created', 'by', 'Leonardo', '.', 'It’s', 'held', 'at', 'the', 'Louvre', 'in', 'Paris', '.']\n",
      "ner: ['O', 'B-PER', 'I-PER', 'O', 'O', 'O', 'O', 'O', 'O', 'O', 'O', 'B-PER', 'O', 'O', 'O', 'O', 'O', 'B-LOC', 'O', 'B-LOC', 'O']\n",
      "embeddings: ['The', 'Mona', 'Lisa', 'is', 'a', '16th', 'century', 'oil', 'painting', 'created', 'by', 'Leonardo', '.', 'It’s', 'held', 'at', 'the', 'Louvre', 'in', 'Paris', '.']\n",
      "sentence: ['The Mona Lisa is a 16th century oil painting created by Leonardo.', 'It’s held at the Louvre in Paris.']\n"
     ]
    }
   ],
   "source": [
    "# Import Spark NLP \n",
    "from sparknlp.base import *\n",
    "from sparknlp.annotator import *\n",
    "from sparknlp.embeddings import *\n",
    "from sparknlp.pretrained import PretrainedPipeline\n",
    "import sparknlp\n",
    "\n",
    "# Start Spark Session with Spark NLP\n",
    "spark = sparknlp.start()\n",
    "\n",
    "# Download a pre-trained pipeline \n",
    "pipeline = PretrainedPipeline(\"explain_document_dl\", lang=\"en\")\n",
    "\n",
    "# Your testing dataset\n",
    "text = \"\"\"\n",
    "The Mona Lisa is a 16th century oil painting created by Leonardo. \n",
    "It’s held at the Louvre in Paris.\n",
    "\"\"\"\n",
    "\n",
    "# Annotate your testing dataset\n",
    "result = pipeline.annotate(text)\n",
    "\n",
    "# What’s in the pipeline\n",
    "keys = list(result.keys())\n",
    "for k in keys:\n",
    "    print(f\"{k}:\", result[k])"
   ]
  }
 ],
 "metadata": {
  "kernelspec": {
   "display_name": "Python 3",
   "language": "python",
   "name": "python3"
  },
  "language_info": {
   "codemirror_mode": {
    "name": "ipython",
    "version": 3
   },
   "file_extension": ".py",
   "mimetype": "text/x-python",
   "name": "python",
   "nbconvert_exporter": "python",
   "pygments_lexer": "ipython3",
   "version": "3.7.10"
  }
 },
 "nbformat": 4,
 "nbformat_minor": 5
}

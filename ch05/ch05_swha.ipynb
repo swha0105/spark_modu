{
 "cells": [
  {
   "cell_type": "markdown",
   "id": "expanded-appraisal",
   "metadata": {},
   "source": [
    "## dataset download & spark setting"
   ]
  },
  {
   "cell_type": "code",
   "execution_count": 1,
   "id": "separate-appearance",
   "metadata": {},
   "outputs": [],
   "source": [
    "from pyspark.sql import SparkSession\n",
    "import pyspark.sql.functions as F\n",
    "\n",
    "import os\n",
    "\n",
    "ref_path = os.getcwd()\n",
    "data_path = ref_path + '/data/'\n",
    "# if 'kdd.ics.uci.edu' not in os.listdir(ref_path):\n",
    "#     !wget -A.gz https://kdd.ics.uci.edu/databases/kddcup99/\n",
    "#     !wget https://kdd.ics.uci.edu/databases/kddcup99/kddcup.names\n",
    "#     !gunzip $ref_path'kdd.ics.uci.edu/databases/kddcup99/*'\n",
    "    \n",
    "    \n",
    "spark = SparkSession.builder.appName('Chapter05')\\\n",
    "    .master('local[4]')\\\n",
    "    .config(\"spark.executor.memory\", \"2g\")\\\n",
    "    .getOrCreate()\n",
    "#Q: Local means CPU or core?\n"
   ]
  },
  {
   "cell_type": "code",
   "execution_count": 2,
   "id": "acting-alignment",
   "metadata": {},
   "outputs": [
    {
     "name": "stdout",
     "output_type": "stream",
     "text": [
      "0,tcp,http,SF,215,45076,0,0,0,0,0,1,0,0,0,0,0,0,0,0,0,0,1,1,0.00,0.00,0.00,0.00,1.00,0.00,0.00,0,0,0.00,0.00,0.00,0.00,0.00,0.00,0.00,0.00,normal.\n",
      "0,tcp,http,SF,162,4528,0,0,0,0,0,1,0,0,0,0,0,0,0,0,0,0,2,2,0.00,0.00,0.00,0.00,1.00,0.00,0.00,1,1,1.00,0.00,1.00,0.00,0.00,0.00,0.00,0.00,normal.\n",
      "0,tcp,http,SF,236,1228,0,0,0,0,0,1,0,0,0,0,0,0,0,0,0,0,1,1,0.00,0.00,0.00,0.00,1.00,0.00,0.00,2,2,1.00,0.00,0.50,0.00,0.00,0.00,0.00,0.00,normal.\n",
      "0,tcp,http,SF,233,2032,0,0,0,0,0,1,0,0,0,0,0,0,0,0,0,0,2,2,0.00,0.00,0.00,0.00,1.00,0.00,0.00,3,3,1.00,0.00,0.33,0.00,0.00,0.00,0.00,0.00,normal.\n",
      "0,tcp,http,SF,239,486,0,0,0,0,0,1,0,0,0,0,0,0,0,0,0,0,3,3,0.00,0.00,0.00,0.00,1.00,0.00,0.00,4,4,1.00,0.00,0.25,0.00,0.00,0.00,0.00,0.00,normal.\n",
      "0,tcp,http,SF,238,1282,0,0,0,0,0,1,0,0,0,0,0,0,0,0,0,0,4,4,0.00,0.00,0.00,0.00,1.00,0.00,0.00,5,5,1.00,0.00,0.20,0.00,0.00,0.00,0.00,0.00,normal.\n",
      "0,tcp,http,SF,235,1337,0,0,0,0,0,1,0,0,0,0,0,0,0,0,0,0,5,5,0.00,0.00,0.00,0.00,1.00,0.00,0.00,6,6,1.00,0.00,0.17,0.00,0.00,0.00,0.00,0.00,normal.\n",
      "0,tcp,http,SF,234,1364,0,0,0,0,0,1,0,0,0,0,0,0,0,0,0,0,6,6,0.00,0.00,0.00,0.00,1.00,0.00,0.00,7,7,1.00,0.00,0.14,0.00,0.00,0.00,0.00,0.00,normal.\n",
      "0,tcp,http,SF,239,1295,0,0,0,0,0,1,0,0,0,0,0,0,0,0,0,0,7,7,0.00,0.00,0.00,0.00,1.00,0.00,0.00,8,8,1.00,0.00,0.12,0.00,0.00,0.00,0.00,0.00,normal.\n",
      "0,tcp,http,SF,181,5450,0,0,0,0,0,1,0,0,0,0,0,0,0,0,0,0,8,8,0.00,0.00,0.00,0.00,1.00,0.00,0.00,9,9,1.00,0.00,0.11,0.00,0.00,0.00,0.00,0.00,normal.\n"
     ]
    }
   ],
   "source": [
    "!head $data_path'kddcup.data'"
   ]
  },
  {
   "cell_type": "code",
   "execution_count": 2,
   "id": "dimensional-quantity",
   "metadata": {},
   "outputs": [],
   "source": [
    "dataWithoutHeader = spark\\\n",
    "    .read.format(\"csv\")\\\n",
    "    .option('inferSchema',True)\\\n",
    "    .option(\"header\", False)\\\n",
    "    .option(\"sep\", \",\")\\\n",
    "    .load(data_path + \"kddcup.data\")\n"
   ]
  },
  {
   "cell_type": "code",
   "execution_count": 3,
   "id": "controversial-prototype",
   "metadata": {},
   "outputs": [
    {
     "name": "stdout",
     "output_type": "stream",
     "text": [
      "['back,buffer_overflow,ftp_write,guess_passwd,imap,ipsweep,land,loadmodule,multihop,neptune,nmap,normal,perl,phf,pod,portsweep,rootkit,satan,smurf,spy,teardrop,warezclient,warezmaster.\\n', 'duration: continuous.\\n', 'protocol_type: symbolic.\\n', 'service: symbolic.\\n', 'flag: symbolic.\\n', 'src_bytes: continuous.\\n', 'dst_bytes: continuous.\\n', 'land: symbolic.\\n', 'wrong_fragment: continuous.\\n', 'urgent: continuous.\\n', 'hot: continuous.\\n', 'num_failed_logins: continuous.\\n', 'logged_in: symbolic.\\n', 'num_compromised: continuous.\\n', 'root_shell: continuous.\\n', 'su_attempted: continuous.\\n', 'num_root: continuous.\\n', 'num_file_creations: continuous.\\n', 'num_shells: continuous.\\n', 'num_access_files: continuous.\\n', 'num_outbound_cmds: continuous.\\n', 'is_host_login: symbolic.\\n', 'is_guest_login: symbolic.\\n', 'count: continuous.\\n', 'srv_count: continuous.\\n', 'serror_rate: continuous.\\n', 'srv_serror_rate: continuous.\\n', 'rerror_rate: continuous.\\n', 'srv_rerror_rate: continuous.\\n', 'same_srv_rate: continuous.\\n', 'diff_srv_rate: continuous.\\n', 'srv_diff_host_rate: continuous.\\n', 'dst_host_count: continuous.\\n', 'dst_host_srv_count: continuous.\\n', 'dst_host_same_srv_rate: continuous.\\n', 'dst_host_diff_srv_rate: continuous.\\n', 'dst_host_same_src_port_rate: continuous.\\n', 'dst_host_srv_diff_host_rate: continuous.\\n', 'dst_host_serror_rate: continuous.\\n', 'dst_host_srv_serror_rate: continuous.\\n', 'dst_host_rerror_rate: continuous.\\n', 'dst_host_srv_rerror_rate: continuous.\\n']\n"
     ]
    }
   ],
   "source": [
    "cols = []\n",
    "\n",
    "name = open(data_path + 'kddcup.names.txt','r')\n",
    "lines = name.readlines()\n",
    "print(lines)\n",
    "for line in lines[1:]:\n",
    "    cols.append(line.split(':')[0])\n",
    "\n",
    "cols.append('label')"
   ]
  },
  {
   "cell_type": "code",
   "execution_count": 4,
   "id": "honey-chain",
   "metadata": {},
   "outputs": [
    {
     "data": {
      "text/plain": [
       "DataFrame[duration: int, protocol_type: string, service: string, flag: string, src_bytes: int, dst_bytes: int, land: int, wrong_fragment: int, urgent: int, hot: int, num_failed_logins: int, logged_in: int, num_compromised: int, root_shell: int, su_attempted: int, num_root: int, num_file_creations: int, num_shells: int, num_access_files: int, num_outbound_cmds: int, is_host_login: int, is_guest_login: int, count: int, srv_count: int, serror_rate: double, srv_serror_rate: double, rerror_rate: double, srv_rerror_rate: double, same_srv_rate: double, diff_srv_rate: double, srv_diff_host_rate: double, dst_host_count: int, dst_host_srv_count: int, dst_host_same_srv_rate: double, dst_host_diff_srv_rate: double, dst_host_same_src_port_rate: double, dst_host_srv_diff_host_rate: double, dst_host_serror_rate: double, dst_host_srv_serror_rate: double, dst_host_rerror_rate: double, dst_host_srv_rerror_rate: double, label: string]"
      ]
     },
     "execution_count": 4,
     "metadata": {},
     "output_type": "execute_result"
    }
   ],
   "source": [
    "data = dataWithoutHeader.toDF(*cols)\n",
    "data.cache()"
   ]
  },
  {
   "cell_type": "code",
   "execution_count": 6,
   "id": "compatible-equality",
   "metadata": {},
   "outputs": [
    {
     "name": "stdout",
     "output_type": "stream",
     "text": [
      "+----------------+-------+\n",
      "|           label|  count|\n",
      "+----------------+-------+\n",
      "|          smurf.|2807886|\n",
      "|        neptune.|1072017|\n",
      "|         normal.| 972781|\n",
      "|          satan.|  15892|\n",
      "|        ipsweep.|  12481|\n",
      "|      portsweep.|  10413|\n",
      "|           nmap.|   2316|\n",
      "|           back.|   2203|\n",
      "|    warezclient.|   1020|\n",
      "|       teardrop.|    979|\n",
      "|            pod.|    264|\n",
      "|   guess_passwd.|     53|\n",
      "|buffer_overflow.|     30|\n",
      "|           land.|     21|\n",
      "|    warezmaster.|     20|\n",
      "|           imap.|     12|\n",
      "|        rootkit.|     10|\n",
      "|     loadmodule.|      9|\n",
      "|      ftp_write.|      8|\n",
      "|       multihop.|      7|\n",
      "+----------------+-------+\n",
      "only showing top 20 rows\n",
      "\n"
     ]
    }
   ],
   "source": [
    "data.groupBy(\"label\").count().orderBy('count',ascending=False).show()"
   ]
  },
  {
   "cell_type": "code",
   "execution_count": 5,
   "id": "determined-model",
   "metadata": {},
   "outputs": [],
   "source": [
    "import numpy as np\n",
    "from pyspark.ml.feature import VectorAssembler\n",
    "from pyspark.ml.clustering import KMeans,BisectingKMeans\n",
    "from pyspark.ml import Pipeline\n",
    "import pyspark.sql.functions as f\n",
    "from pyspark.ml.evaluation import ClusteringEvaluator\n",
    "\n",
    "numericOnly = data.drop(\"protocol_type\",\"service\",\"flag\").cache()\n",
    "\n",
    "InputCols =[columns for columns in numericOnly.columns if columns != 'label']\n",
    "\n",
    "\n",
    "assembler = VectorAssembler()\\\n",
    "    .setInputCols(InputCols)\\\n",
    "    .setOutputCol(\"featureVector\")\n",
    "\n",
    "kmeans = BisectingKMeans()\\\n",
    "    .setK(2)\\\n",
    "    .setPredictionCol(\"cluster\")\\\n",
    "    .setFeaturesCol(\"featureVector\")\n",
    "\n",
    "pipeline = Pipeline(stages=[assembler,kmeans])\n",
    "piplelinemodel = pipeline.fit(numericOnly)\n",
    "result_data = piplelinemodel.transform(numericOnly)"
   ]
  },
  {
   "cell_type": "markdown",
   "id": "dangerous-theta",
   "metadata": {},
   "source": [
    "---\n",
    "\n",
    "## pipeline \n",
    "- Pipeline은 stage의 연속, stage는 Transformer와 Estimator로 구성. \n",
    "- pipeline은 estimator로 fit함수 호출을 통해 학습을 진행할 수 있고 결과로 pipelinemodel을 반환한다. \n",
    "\n",
    "## transformer \n",
    "- feature를 변형, 추출하기 위한 알고리즘과 학습된 모델을 위한 추상 클래스 또는 구현한 클래스 집합이다.\n",
    "- transformer클래스들은 내부적으로 transform함수가 구현되어 있다.\n",
    "- DataFrame을 입력받아 하나 이상의 칼럼이 추가된 새로운 DataFrame을 만들어낸다\n",
    "\n",
    "\n",
    "## Estimators\n",
    "\n",
    "- 데이터로 알고리즘을 학습하는 과정을 추상화한 클래스 또는 구현한 클래스 집합이다.\n",
    "- estimator클래스들은 내부적으로 fit함수가 구현되어있다\n",
    "- DataFrame을 입력받아 Transformer인 모델을 반환한다.\n",
    "> ex: estimator class인 LogisticRegression은 fit함수 호출을 통해 학습된 LogisticRegressionModel을 반환하며 반환되는 LogisticRegressionModel은 Transformer이다. \n",
    "\n",
    "https://spark.apache.org/docs/latest/ml-pipeline.html#properties-of-pipeline-components\n",
    "\n",
    "---\n",
    "\n",
    "## Silhouette score\n",
    "$$ -1 \\leq \\frac{ (b_{i}-a_{i})}{max(a_{i},b_{i})} \\leq 1 $$\n",
    "\n",
    "## Intra-cluster distance  \n",
    "$$a(i) = \\frac{1}{C_{i}-1} \\sum_{j \\subset C_{i}, i \\neq j} d(i,j)$$ \n",
    "\n",
    "## mean nearest-cluster distance\n",
    "$$ b(i) = \\min_{k \\neq i} \\frac{1}{C_{k}} \\sum_{j \\subset C_{k}} d(i,j)$$\n",
    "\n",
    "$$ d(i,j): distance \\; i,j, $$\n",
    "$$ C_{i}: number \\; of \\; object \\; in \\; Cluster \\; i$$\n",
    "\n",
    "<br/>\n",
    "\n",
    "**Mean Silhouette Coefficient for all samples.**\n",
    "\n",
    "\n",
    "\n",
    "Range of SC Interpretation  \n",
    "0.71-1.0 A strong structure has been found  \n",
    "0.51-0.70 A reasonable structure has been found  \n",
    "0.26-0.50 The structure is weak and could be artificial  \n",
    "< 0.25 No substantial structure has been found  \n",
    "https://www.stat.berkeley.edu/~spector/s133/Clus.html\n",
    "\n",
    "<br/>\n",
    "<br/>\n",
    "\n",
    "Kmeans는 모든 iteration step마다 distance를 계산하여 clustering,  \n",
    "Bisecting clustering은 가장 Intra-cluster distance가 높은 cluster를 픽 하여 나눈다. "
   ]
  },
  {
   "cell_type": "markdown",
   "id": "educational-things",
   "metadata": {},
   "source": [
    "---\n",
    "\n",
    "### Bisecting clustering computeCost deprecated in 3.0.0.  use ClusteringEvaluator\n",
    "\n",
    "---\n"
   ]
  },
  {
   "cell_type": "code",
   "execution_count": 11,
   "id": "hourly-jason",
   "metadata": {},
   "outputs": [
    {
     "name": "stdout",
     "output_type": "stream",
     "text": [
      "+-------+---------------------------------------------------------------------------------+\n",
      "|label  |featureVector                                                                    |\n",
      "+-------+---------------------------------------------------------------------------------+\n",
      "|normal.|(38,[1,2,8,19,20,25],[215.0,45076.0,1.0,1.0,1.0,1.0])                            |\n",
      "|normal.|(38,[1,2,8,19,20,25,28,29,30,32],[162.0,4528.0,1.0,2.0,2.0,1.0,1.0,1.0,1.0,1.0]) |\n",
      "|normal.|(38,[1,2,8,19,20,25,28,29,30,32],[236.0,1228.0,1.0,1.0,1.0,1.0,2.0,2.0,1.0,0.5]) |\n",
      "|normal.|(38,[1,2,8,19,20,25,28,29,30,32],[233.0,2032.0,1.0,2.0,2.0,1.0,3.0,3.0,1.0,0.33])|\n",
      "|normal.|(38,[1,2,8,19,20,25,28,29,30,32],[239.0,486.0,1.0,3.0,3.0,1.0,4.0,4.0,1.0,0.25]) |\n",
      "+-------+---------------------------------------------------------------------------------+\n",
      "only showing top 5 rows\n",
      "\n"
     ]
    }
   ],
   "source": [
    "result_data.select(\"label\", \"featureVector\").show(5, False)"
   ]
  },
  {
   "cell_type": "code",
   "execution_count": 12,
   "id": "suspended-dressing",
   "metadata": {},
   "outputs": [
    {
     "name": "stdout",
     "output_type": "stream",
     "text": [
      "+-------+----------------+-------+\n",
      "|Cluster|           label|  count|\n",
      "+-------+----------------+-------+\n",
      "|      0|          smurf.|2807886|\n",
      "|      0|        neptune.|1072017|\n",
      "|      0|         normal.| 972781|\n",
      "|      0|          satan.|  15892|\n",
      "|      0|        ipsweep.|  12481|\n",
      "|      0|      portsweep.|  10408|\n",
      "|      0|           nmap.|   2316|\n",
      "|      0|           back.|   2203|\n",
      "|      0|    warezclient.|   1020|\n",
      "|      0|       teardrop.|    979|\n",
      "|      0|            pod.|    264|\n",
      "|      0|   guess_passwd.|     53|\n",
      "|      0|buffer_overflow.|     30|\n",
      "|      0|           land.|     21|\n",
      "|      0|    warezmaster.|     20|\n",
      "|      0|           imap.|     12|\n",
      "|      0|        rootkit.|     10|\n",
      "|      0|     loadmodule.|      9|\n",
      "|      0|      ftp_write.|      8|\n",
      "|      0|       multihop.|      7|\n",
      "|      1|      portsweep.|      5|\n",
      "|      0|            phf.|      4|\n",
      "|      0|           perl.|      3|\n",
      "|      0|            spy.|      2|\n",
      "+-------+----------------+-------+\n",
      "\n"
     ]
    }
   ],
   "source": [
    "result_data.select(\"cluster\",\"label\")\\\n",
    "    .groupBy(\"Cluster\",\"label\").count()\\\n",
    "    .orderBy('count',ascending=False)\\\n",
    "    .show(25)"
   ]
  },
  {
   "cell_type": "code",
   "execution_count": 5,
   "id": "nearby-salad",
   "metadata": {},
   "outputs": [
    {
     "name": "stdout",
     "output_type": "stream",
     "text": [
      "5 0.9999994341550521\n",
      "10 0.99996839424901\n",
      "15 0.9999231883576829\n",
      "20 0.999933043370616\n"
     ]
    }
   ],
   "source": [
    "import numpy as np\n",
    "from pyspark.ml.feature import VectorAssembler\n",
    "from pyspark.ml.clustering import KMeans,BisectingKMeans\n",
    "from pyspark.ml import Pipeline\n",
    "import pyspark.sql.functions as f\n",
    "from pyspark.ml.evaluation import ClusteringEvaluator\n",
    "numericOnly = data.drop(\"protocol_type\",\"service\",\"flag\").cache()\n",
    "\n",
    "InputCols =[columns for columns in numericOnly.columns if columns != 'label']\n",
    "\n",
    "cost = []\n",
    "for k in [5,10,15,20]:\n",
    "\n",
    "#for k in [20]:\n",
    "\n",
    "    assembler = VectorAssembler()\\\n",
    "        .setInputCols(InputCols)\\\n",
    "        .setOutputCol(\"features\")\n",
    "\n",
    "    kmeans = KMeans()\\\n",
    "        .setSeed(np.random.randint(42))\\\n",
    "        .setK(k)\\\n",
    "        .setPredictionCol(\"cluster\")\\\n",
    "        .setFeaturesCol(\"features\")\n",
    "\n",
    " #init='k-means++'\n",
    "\n",
    "    pipeline = Pipeline().setStages([assembler,kmeans])\n",
    "    pipelinemodel = pipeline.fit(numericOnly)\n",
    "    result_data = pipelinemodel.transform(numericOnly)\n",
    "\n",
    "    evaluator = ClusteringEvaluator()\n",
    "    evaluator.setPredictionCol(\"cluster\")\n",
    "    cost.append(evaluator.evaluate(result_data))\n",
    "    print(k,(evaluator.evaluate(result_data)))\n",
    "    #print(k, evaluator.evaluate(result_data)) #자동으로 \"features\" 만 찾아줌 "
   ]
  },
  {
   "cell_type": "code",
   "execution_count": 8,
   "id": "centered-federation",
   "metadata": {},
   "outputs": [
    {
     "data": {
      "text/plain": [
       "Text(0.5, 1.0, 'Bisection ')"
      ]
     },
     "execution_count": 8,
     "metadata": {},
     "output_type": "execute_result"
    },
    {
     "data": {
      "image/png": "[encoded data removed]",
      "text/plain": [
       "<Figure size 432x288 with 1 Axes>"
      ]
     },
     "metadata": {
      "needs_background": "light"
     },
     "output_type": "display_data"
    }
   ],
   "source": [
    "import matplotlib.pyplot as plt\n",
    "plt.plot([20,40,60,80,100],cost)\n",
    "plt.title(\"Bisection \")"
   ]
  },
  {
   "cell_type": "code",
   "execution_count": 32,
   "id": "cordless-ukraine",
   "metadata": {},
   "outputs": [
    {
     "data": {
      "text/plain": [
       "''"
      ]
     },
     "execution_count": 32,
     "metadata": {},
     "output_type": "execute_result"
    }
   ],
   "source": [
    "piplelinemodel.explainParams()"
   ]
  },
  {
   "cell_type": "code",
   "execution_count": 5,
   "id": "dress-traffic",
   "metadata": {},
   "outputs": [
    {
     "ename": "NameError",
     "evalue": "name 'cost' is not defined",
     "output_type": "error",
     "traceback": [
      "\u001b[0;31m---------------------------------------------------------------------------\u001b[0m",
      "\u001b[0;31mNameError\u001b[0m                                 Traceback (most recent call last)",
      "\u001b[0;32m<ipython-input-5-c30069791837>\u001b[0m in \u001b[0;36m<module>\u001b[0;34m\u001b[0m\n\u001b[1;32m     31\u001b[0m     \u001b[0mevaluator\u001b[0m \u001b[0;34m=\u001b[0m \u001b[0mClusteringEvaluator\u001b[0m\u001b[0;34m(\u001b[0m\u001b[0;34m)\u001b[0m\u001b[0;34m\u001b[0m\u001b[0;34m\u001b[0m\u001b[0m\n\u001b[1;32m     32\u001b[0m     \u001b[0mevaluator\u001b[0m\u001b[0;34m.\u001b[0m\u001b[0msetPredictionCol\u001b[0m\u001b[0;34m(\u001b[0m\u001b[0;34m\"cluster\"\u001b[0m\u001b[0;34m)\u001b[0m\u001b[0;34m\u001b[0m\u001b[0;34m\u001b[0m\u001b[0m\n\u001b[0;32m---> 33\u001b[0;31m     \u001b[0mcost\u001b[0m\u001b[0;34m.\u001b[0m\u001b[0mappend\u001b[0m\u001b[0;34m(\u001b[0m\u001b[0mevaluator\u001b[0m\u001b[0;34m.\u001b[0m\u001b[0mevaluate\u001b[0m\u001b[0;34m(\u001b[0m\u001b[0mresult_data\u001b[0m\u001b[0;34m)\u001b[0m\u001b[0;34m)\u001b[0m\u001b[0;34m\u001b[0m\u001b[0;34m\u001b[0m\u001b[0m\n\u001b[0m\u001b[1;32m     34\u001b[0m     \u001b[0mprint\u001b[0m\u001b[0;34m(\u001b[0m\u001b[0mk\u001b[0m\u001b[0;34m,\u001b[0m\u001b[0;34m(\u001b[0m\u001b[0mevaluator\u001b[0m\u001b[0;34m.\u001b[0m\u001b[0mevaluate\u001b[0m\u001b[0;34m(\u001b[0m\u001b[0mresult_data\u001b[0m\u001b[0;34m)\u001b[0m\u001b[0;34m)\u001b[0m\u001b[0;34m)\u001b[0m\u001b[0;34m\u001b[0m\u001b[0;34m\u001b[0m\u001b[0m\n",
      "\u001b[0;31mNameError\u001b[0m: name 'cost' is not defined"
     ]
    }
   ],
   "source": [
    "import numpy as np\n",
    "from pyspark.ml.feature import VectorAssembler\n",
    "from pyspark.ml.clustering import KMeans,BisectingKMeans\n",
    "from pyspark.ml import Pipeline\n",
    "import pyspark.sql.functions as f\n",
    "from pyspark.ml.evaluation import ClusteringEvaluator\n",
    "numericOnly = data.drop(\"protocol_type\",\"service\",\"flag\").cache()\n",
    "\n",
    "InputCols =[columns for columns in numericOnly.columns if columns != 'label']\n",
    "\n",
    "for k in [20]:\n",
    "\n",
    "#for k in [20]:\n",
    "\n",
    "    assembler = VectorAssembler()\\\n",
    "        .setInputCols(InputCols)\\\n",
    "        .setOutputCol(\"features\")\n",
    "\n",
    "    kmeans = KMeans()\\\n",
    "        .setSeed(np.random.randint(42))\\\n",
    "        .setK(k)\\\n",
    "        .setPredictionCol(\"cluster\")\\\n",
    "        .setFeaturesCol(\"features\")\n",
    "\n",
    " #init='k-means++'\n",
    "\n",
    "    pipeline = Pipeline().setStages([assembler,kmeans])\n",
    "    pipelinemodel = pipeline.fit(numericOnly)\n",
    "    result_data = pipelinemodel.transform(numericOnly)\n",
    "\n",
    "    evaluator = ClusteringEvaluator()\n",
    "    evaluator.setPredictionCol(\"cluster\")\n",
    "    cost.append(evaluator.evaluate(result_data))\n",
    "    print(k,(evaluator.evaluate(result_data)))"
   ]
  },
  {
   "cell_type": "code",
   "execution_count": 7,
   "id": "permanent-intersection",
   "metadata": {},
   "outputs": [
    {
     "name": "stdout",
     "output_type": "stream",
     "text": [
      "+-------+----------------+-------+\n",
      "|cluster|           label|  count|\n",
      "+-------+----------------+-------+\n",
      "|      0|          smurf.|2807886|\n",
      "|      0|        neptune.|1072017|\n",
      "|      0|         normal.| 972335|\n",
      "|      0|          satan.|  15892|\n",
      "|      0|        ipsweep.|  12481|\n",
      "|      0|      portsweep.|  10402|\n",
      "|      0|           nmap.|   2316|\n",
      "|      0|           back.|   2203|\n",
      "|      0|       teardrop.|    979|\n",
      "|      0|    warezclient.|    960|\n",
      "|      0|            pod.|    264|\n",
      "|     13|         normal.|    243|\n",
      "|     12|         normal.|    187|\n",
      "|      9|    warezclient.|     59|\n",
      "|      0|   guess_passwd.|     53|\n",
      "|      0|buffer_overflow.|     30|\n",
      "|      0|           land.|     21|\n",
      "|     12|    warezmaster.|     16|\n",
      "|      0|           imap.|     12|\n",
      "|      0|        rootkit.|     10|\n",
      "+-------+----------------+-------+\n",
      "only showing top 20 rows\n",
      "\n"
     ]
    }
   ],
   "source": [
    "result_data.groupBy(\"cluster\",\"label\").count().orderBy(\"count\",ascending=False).show(20)"
   ]
  },
  {
   "cell_type": "code",
   "execution_count": null,
   "id": "purple-dispatch",
   "metadata": {},
   "outputs": [],
   "source": [
    "from pyspark.ml.feature import VectorAssembler, StringIndexer, OneHotEncoder, StandardScaler, PCA\n"
   ]
  }
 ],
 "metadata": {
  "kernelspec": {
   "display_name": "Python 3",
   "language": "python",
   "name": "python3"
  },
  "language_info": {
   "codemirror_mode": {
    "name": "ipython",
    "version": 3
   },
   "file_extension": ".py",
   "mimetype": "text/x-python",
   "name": "python",
   "nbconvert_exporter": "python",
   "pygments_lexer": "ipython3",
   "version": "3.8.6"
  }
 },
 "nbformat": 4,
 "nbformat_minor": 5
}

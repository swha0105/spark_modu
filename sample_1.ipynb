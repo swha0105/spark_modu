{
 "cells": [
  {
   "cell_type": "code",
   "execution_count": 1,
   "id": "exact-chaos",
   "metadata": {},
   "outputs": [
    {
     "name": "stdout",
     "output_type": "stream",
     "text": [
      "Collecting spark-nlp\n",
      "  Using cached spark_nlp-2.7.4-py2.py3-none-any.whl (139 kB)\n",
      "Installing collected packages: spark-nlp\n",
      "Successfully installed spark-nlp-2.7.4\n"
     ]
    }
   ],
   "source": [
    "# Install Sparknlp\n",
    "!pip install --ignore-installed spark-nlp"
   ]
  },
  {
   "cell_type": "code",
   "execution_count": 2,
   "id": "identified-ecology",
   "metadata": {},
   "outputs": [
    {
     "name": "stdout",
     "output_type": "stream",
     "text": [
      "Requirement already satisfied: pandas in /home/user/.pyenv/versions/3.7.10/lib/python3.7/site-packages (1.2.2)\n",
      "Requirement already satisfied: numpy in /home/user/.pyenv/versions/3.7.10/lib/python3.7/site-packages (1.20.1)\n",
      "Requirement already satisfied: python-dateutil>=2.7.3 in /home/user/.pyenv/versions/3.7.10/lib/python3.7/site-packages (from pandas) (2.8.1)\n",
      "Requirement already satisfied: pytz>=2017.3 in /home/user/.pyenv/versions/3.7.10/lib/python3.7/site-packages (from pandas) (2021.1)\n",
      "Requirement already satisfied: six>=1.5 in /home/user/.pyenv/versions/3.7.10/lib/python3.7/site-packages (from python-dateutil>=2.7.3->pandas) (1.15.0)\n"
     ]
    }
   ],
   "source": [
    "!pip install pandas numpy"
   ]
  },
  {
   "cell_type": "code",
   "execution_count": 3,
   "id": "challenging-version",
   "metadata": {},
   "outputs": [],
   "source": [
    "import os\n",
    "import json\n",
    "os.environ['JAVA_HOME'] = \"/usr/lib/jvm/java-8-openjdk-amd64\"\n",
    "\n",
    "import pandas as pd\n",
    "import numpy as np\n",
    "\n",
    "from pyspark.ml import Pipeline\n",
    "from pyspark.sql import SparkSession\n",
    "import pyspark.sql.functions as F\n",
    "from sparknlp.annotator import *\n",
    "from sparknlp.base import *\n",
    "\n",
    "import sparknlp\n",
    "from sparknlp.pretrained import PretrainedPipeline\n",
    "\n",
    "# spark = sparknlp.start()\n",
    "spark = SparkSession.builder \\\n",
    "    .appName(\"Spark NLP\")\\\n",
    "    .master(\"local[*]\")\\\n",
    "    .config(\"spark.driver.memory\",\"16G\")\\\n",
    "    .config(\"spark.driver.maxResultSize\", \"0\") \\\n",
    "    .config(\"spark.jars.packages\", \"com.johnsnowlabs.nlp:spark-nlp_2.11:2.7.4\")\\\n",
    "    .config(\"spark.kryoserializer.buffer.max\", \"1000M\")\\\n",
    "    .getOrCreate()"
   ]
  },
  {
   "cell_type": "code",
   "execution_count": 4,
   "id": "banner-region",
   "metadata": {},
   "outputs": [],
   "source": [
    "# If you change the model, re-run all the cells below\n",
    "# Other applicable models: ner_dl, ner_dl_bert\n",
    "MODEL_NAME = \"onto_100\""
   ]
  },
  {
   "cell_type": "code",
   "execution_count": 5,
   "id": "awful-australian",
   "metadata": {},
   "outputs": [],
   "source": [
    "text_list = [\n",
    "    \"\"\"William Henry Gates III (born October 28, 1955) is an American business magnate, software developer, investor, and philanthropist. He is best known as the co-founder of Microsoft Corporation. During his career at Microsoft, Gates held the positions of chairman, chief executive officer (CEO), president and chief software architect, while also being the largest individual shareholder until May 2014. He is one of the best-known entrepreneurs and pioneers of the microcomputer revolution of the 1970s and 1980s. Born and raised in Seattle, Washington, Gates co-founded Microsoft with childhood friend Paul Allen in 1975, in Albuquerque, New Mexico; it went on to become the world's largest personal computer software company. Gates led the company as chairman and CEO until stepping down as CEO in January 2000, but he remained chairman and became chief software architect. During the late 1990s, Gates had been criticized for his business tactics, which have been considered anti-competitive. This opinion has been upheld by numerous court rulings. In June 2006, Gates announced that he would be transitioning to a part-time role at Microsoft and full-time work at the Bill & Melinda Gates Foundation, the private charitable foundation that he and his wife, Melinda Gates, established in 2000.[9] He gradually transferred his duties to Ray Ozzie and Craig Mundie. He stepped down as chairman of Microsoft in February 2014 and assumed a new post as technology adviser to support the newly appointed CEO Satya Nadella.\"\"\",\n",
    "    \"\"\"The Mona Lisa is a 16th century oil painting created by Leonardo. It's held at the Louvre in Paris.\"\"\"\n",
    "]"
   ]
  },
  {
   "cell_type": "code",
   "execution_count": 6,
   "id": "elect-cable",
   "metadata": {},
   "outputs": [
    {
     "name": "stdout",
     "output_type": "stream",
     "text": [
      "glove_100d download started this may take some time.\n",
      "Approximate size to download 145.3 MB\n",
      "[OK!]\n",
      "onto_100 download started this may take some time.\n",
      "Approximate size to download 13.5 MB\n",
      "[OK!]\n"
     ]
    }
   ],
   "source": [
    "documentAssembler = DocumentAssembler() \\\n",
    "    .setInputCol('text') \\\n",
    "    .setOutputCol('document')\n",
    "\n",
    "tokenizer = Tokenizer() \\\n",
    "    .setInputCols(['document']) \\\n",
    "    .setOutputCol('token')\n",
    "\n",
    "# ner_dl and onto_100 model are trained with glove_100d, so the embeddings in\n",
    "# the pipeline should match\n",
    "if (MODEL_NAME == \"ner_dl\") or (MODEL_NAME == \"onto_100\"):\n",
    "    embeddings = WordEmbeddingsModel.pretrained('glove_100d') \\\n",
    "        .setInputCols([\"document\", 'token']) \\\n",
    "        .setOutputCol(\"embeddings\")\n",
    "\n",
    "# Bert model uses Bert embeddings\n",
    "elif MODEL_NAME == \"ner_dl_bert\":\n",
    "    embeddings = BertEmbeddings.pretrained(name='bert_base_cased', lang='en') \\\n",
    "        .setInputCols(['document', 'token']) \\\n",
    "        .setOutputCol('embeddings')\n",
    "\n",
    "ner_model = NerDLModel.pretrained(MODEL_NAME, 'en') \\\n",
    "    .setInputCols(['document', 'token', 'embeddings']) \\\n",
    "    .setOutputCol('ner')\n",
    "\n",
    "ner_converter = NerConverter() \\\n",
    "    .setInputCols(['document', 'token', 'ner']) \\\n",
    "    .setOutputCol('ner_chunk')\n",
    "\n",
    "nlp_pipeline = Pipeline(stages=[\n",
    "    documentAssembler, \n",
    "    tokenizer,\n",
    "    embeddings,\n",
    "    ner_model,\n",
    "    ner_converter\n",
    "])"
   ]
  },
  {
   "cell_type": "code",
   "execution_count": 7,
   "id": "third-integral",
   "metadata": {},
   "outputs": [],
   "source": [
    "empty_df = spark.createDataFrame([['']]).toDF('text')\n",
    "pipeline_model = nlp_pipeline.fit(empty_df)\n",
    "df = spark.createDataFrame(pd.DataFrame({'text': text_list}))\n",
    "result = pipeline_model.transform(df)"
   ]
  },
  {
   "cell_type": "code",
   "execution_count": 8,
   "id": "gross-candidate",
   "metadata": {},
   "outputs": [
    {
     "name": "stdout",
     "output_type": "stream",
     "text": [
      "+-----------------------+---------+\n",
      "|chunk                  |ner_label|\n",
      "+-----------------------+---------+\n",
      "|William Henry Gates III|PERSON   |\n",
      "|October 28, 1955       |DATE     |\n",
      "|American               |NORP     |\n",
      "|Microsoft Corporation  |ORG      |\n",
      "|Microsoft              |ORG      |\n",
      "|Gates                  |PERSON   |\n",
      "|May 2014               |DATE     |\n",
      "|one                    |CARDINAL |\n",
      "|the 1970s and 1980s    |DATE     |\n",
      "|Born                   |PERSON   |\n",
      "|Seattle                |GPE      |\n",
      "|Washington             |GPE      |\n",
      "|Gates                  |PERSON   |\n",
      "|Microsoft              |ORG      |\n",
      "|Paul Allen             |PERSON   |\n",
      "|1975                   |DATE     |\n",
      "|Albuquerque            |GPE      |\n",
      "|New Mexico             |GPE      |\n",
      "|Gates                  |PERSON   |\n",
      "|January 2000           |DATE     |\n",
      "+-----------------------+---------+\n",
      "only showing top 20 rows\n",
      "\n"
     ]
    }
   ],
   "source": [
    "result.select(\n",
    "    F.explode(\n",
    "        F.arrays_zip('ner_chunk.result', 'ner_chunk.metadata')\n",
    "    ).alias(\"cols\")\n",
    ").select(\n",
    "    F.expr(\"cols['0']\").alias('chunk'),\n",
    "    F.expr(\"cols['1']['entity']\").alias('ner_label')\n",
    ").show(truncate=False)"
   ]
  }
 ],
 "metadata": {
  "kernelspec": {
   "display_name": "Python 3",
   "language": "python",
   "name": "python3"
  },
  "language_info": {
   "codemirror_mode": {
    "name": "ipython",
    "version": 3
   },
   "file_extension": ".py",
   "mimetype": "text/x-python",
   "name": "python",
   "nbconvert_exporter": "python",
   "pygments_lexer": "ipython3",
   "version": "3.7.10"
  }
 },
 "nbformat": 4,
 "nbformat_minor": 5
}
